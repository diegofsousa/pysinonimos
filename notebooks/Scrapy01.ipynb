{
 "cells": [
  {
   "cell_type": "code",
   "execution_count": 137,
   "metadata": {},
   "outputs": [],
   "source": [
    "# importação das bibliotecas\n",
    "\n",
    "import requests\n",
    "from scrapy.selector import Selector as scp"
   ]
  },
  {
   "cell_type": "code",
   "execution_count": 138,
   "metadata": {},
   "outputs": [
    {
     "name": "stdout",
     "output_type": "stream",
     "text": [
      "Status da requisição:  200\n"
     ]
    }
   ],
   "source": [
    "# carregando página web\n",
    "\n",
    "r = requests.get('https://www.sinonimos.com.br/correr/')\n",
    "print(\"Status da requisição: \", r.status_code)"
   ]
  },
  {
   "cell_type": "code",
   "execution_count": 139,
   "metadata": {},
   "outputs": [
    {
     "name": "stdout",
     "output_type": "stream",
     "text": [
      "A codificação da página é: ISO-8859-1\n",
      "**********************************************\n",
      "<!DOCTYPE html><html xmlns=\"http://www.w3.org/1999/xhtml\" xml:lang=\"pt-br\" lang=\"pt-br\"><head><meta http-equiv=\"Content-Type\" content=\"text/html; charset=iso-8859-1\" /><meta http-equiv=\"X-UA-Compatibl\n"
     ]
    }
   ],
   "source": [
    "# apresentando conteúdo\n",
    "\n",
    "print(\"A codificação da página é:\", r.encoding)\n",
    "print(\"**********************************************\")\n",
    "print(r.content.decode(r.encoding)[:200])"
   ]
  },
  {
   "cell_type": "code",
   "execution_count": 140,
   "metadata": {},
   "outputs": [
    {
     "name": "stdout",
     "output_type": "stream",
     "text": [
      "correr\n"
     ]
    }
   ],
   "source": [
    "# vamos brincar um pouco....\n",
    "\n",
    "\n",
    "palavra = scp(text=r.content.decode('iso8859-1')).xpath('//h1[@class=\"h-palavra\"]/text()').extract_first()[12:]\n",
    "print(palavra)"
   ]
  },
  {
   "cell_type": "code",
   "execution_count": 141,
   "metadata": {},
   "outputs": [
    {
     "name": "stdout",
     "output_type": "stream",
     "text": [
      "Quantidade de sinonimos: 50\n"
     ]
    }
   ],
   "source": [
    "sinonimos = scp(text=r.content.decode('iso8859-1')).xpath('//a[@class=\"sinonimo\"]/text()').extract()\n",
    "print(\"Quantidade de sinonimos:\", len(sinonimos))"
   ]
  },
  {
   "cell_type": "code",
   "execution_count": 143,
   "metadata": {},
   "outputs": [
    {
     "name": "stdout",
     "output_type": "stream",
     "text": [
      "São sinônimos de correr:\n",
      "['chispar', 'aligeirar', 'açodar', 'estugar', 'mexer-se', 'despachar-se', 'voar', 'apressar-se', 'acelerar-se', 'disparar', 'lançar-se', 'perfazer', 'percorrer', 'escoar', 'descer', 'escorrer', 'cair', 'fluir', 'manar', 'visitar', 'ir', 'viajar', 'ver', 'acudir', 'acorrer', 'roçar', 'passar', 'perpassar', 'deslizar', 'escorraçar', 'afugentar', 'enxortar', 'expulsar', 'seguir', 'acossar', 'perseguir', 'espalhar-se', 'difundir-se', 'alastrar-se', 'circular', 'desenrolar-se', 'viger', 'circular', 'vigorar', 'transcorrer', 'decorrer', 'girar', 'tramitar', 'processar-se', 'prosseguir']\n",
      "chispar\n",
      "aligeirar\n",
      "açodar\n",
      "estugar\n",
      "mexer-se\n",
      "despachar-se\n",
      "voar\n",
      "apressar-se\n",
      "acelerar-se\n",
      "disparar\n",
      "lançar-se\n",
      "perfazer\n",
      "percorrer\n",
      "escoar\n",
      "descer\n",
      "escorrer\n",
      "cair\n",
      "fluir\n",
      "manar\n",
      "visitar\n",
      "ir\n",
      "viajar\n",
      "ver\n",
      "acudir\n",
      "acorrer\n",
      "roçar\n",
      "passar\n",
      "perpassar\n",
      "deslizar\n",
      "escorraçar\n",
      "afugentar\n",
      "enxortar\n",
      "expulsar\n",
      "seguir\n",
      "acossar\n",
      "perseguir\n",
      "espalhar-se\n",
      "difundir-se\n",
      "alastrar-se\n",
      "circular\n",
      "desenrolar-se\n",
      "viger\n",
      "circular\n",
      "vigorar\n",
      "transcorrer\n",
      "decorrer\n",
      "girar\n",
      "tramitar\n",
      "processar-se\n",
      "prosseguir\n"
     ]
    }
   ],
   "source": [
    "print(\"São sinônimos de {}:\".format(palavra))\n",
    "print(sinonimos)\n",
    "for sinonimo in sinonimos:\n",
    "    print(sinonimo)"
   ]
  }
 ],
 "metadata": {
  "kernelspec": {
   "display_name": "Python 3",
   "language": "python",
   "name": "python3"
  },
  "language_info": {
   "codemirror_mode": {
    "name": "ipython",
    "version": 3
   },
   "file_extension": ".py",
   "mimetype": "text/x-python",
   "name": "python",
   "nbconvert_exporter": "python",
   "pygments_lexer": "ipython3",
   "version": "3.6.3"
  }
 },
 "nbformat": 4,
 "nbformat_minor": 2
}
